{
 "cells": [
  {
   "cell_type": "code",
   "execution_count": 2,
   "metadata": {
    "scrolled": true
   },
   "outputs": [
    {
     "name": "stdout",
     "output_type": "stream",
     "text": [
      "Hello World!\n"
     ]
    }
   ],
   "source": [
    "print(\"Hello World!\")"
   ]
  },
  {
   "cell_type": "markdown",
   "metadata": {},
   "source": [
    "# 큰 제목 : 안녕하세요?\n",
    "\n",
    "## 작은 제목 : 테스트입니다.\n",
    "\n",
    "*기울기*\n",
    "\n",
    "**진하게**\n",
    "\n",
    "'파이썬' '데이터' '사이언스'"
   ]
  },
  {
   "cell_type": "markdown",
   "metadata": {},
   "source": [
    "# 큰 제목\n",
    "\n",
    "## 제목\n",
    "\n",
    "### 제목\n",
    "\n",
    "#### 제목"
   ]
  },
  {
   "cell_type": "markdown",
   "metadata": {},
   "source": [
    "# 순서 없는 리스트\n",
    "\n",
    "- 순서 없는 리스트 목록1\n",
    "- 순서 없는 리스트 목록2\n",
    "  - 앞에 두 칸 띄고\n",
    "    - 또 두 칸 띄고\n",
    "    \n",
    "# 순서 있는 리스트\n",
    "\n",
    "1. 순서 있는 리스트 목록1\n",
    "1. 순서 있는 리스트 목록2"
   ]
  },
  {
   "attachments": {},
   "cell_type": "markdown",
   "metadata": {},
   "source": [
    "# 이미지, 링크\n",
    "\n",
    "---\n",
    "\n",
    "## 이미지\n",
    "![Joker](https://upload.wikimedia.org/wikipedia/ko/3/31/%EC%A1%B0%EC%BB%A4_%ED%8F%AC%EC%8A%A4%ED%84%B0.jpg)\n",
    "\n",
    "## 링크\n",
    "[링크](http://naver.com)"
   ]
  },
  {
   "cell_type": "markdown",
   "metadata": {},
   "source": [
    "# 기타\n",
    "\n",
    "---\n",
    "\n",
    "## 글자 진하게\n",
    "**진하게 표시**\n",
    "\n",
    "## 코드 넣기\n",
    "```python\n",
    "msg = input('내용을 입력해주세요')\n",
    "print('파이썬 코드', msg)\n",
    "```\n",
    "\n",
    "## 글 중간에 코드 넣기\n",
    "글 중간에 `코드` 넣기\n",
    "\n",
    "## 인용구\n",
    "> 인용(끝에 스페이스바 2번!)  \n",
    "> 내용\n"
   ]
  },
  {
   "cell_type": "markdown",
   "metadata": {},
   "source": [
    "이름|전화번호|이메일\n",
    "-|-|-\n",
    "A|010|a@a.com\n",
    "B|070|b@b.kr"
   ]
  },
  {
   "cell_type": "code",
   "execution_count": 10,
   "metadata": {},
   "outputs": [],
   "source": [
    "import pandas as pd\n",
    "import numpy as np"
   ]
  },
  {
   "cell_type": "markdown",
   "metadata": {},
   "source": [
    "# 마크다운 연습기\n",
    "---\n",
    "마크다운을 사용하면서 주피터 노트북과 친해져보겠습니다.\n",
    "\n",
    "이 링크를 누르면 \n",
    "[코알라](https://coalastudy.com/)로 이동합니다.\n",
    "\n",
    "\n",
    "---\n",
    "# 지금까지 배운 내용\n",
    "마크다운으로 배운 내용\n",
    "1. 큰 제목 넣기\n",
    "1. 리스트 넣기\n",
    "1. 표 넣기\n",
    "1. 기타\n",
    "\n",
    "---\n",
    "# 정리\n",
    "\n",
    "문법|사용법\n",
    "-|-\n",
    "큰 제목|#을 사용\n",
    "리스트|- 혹은 1. 사용\n",
    "\n",
    "---\n",
    "# 마무리\n",
    "파이썬 코드로 Hello World!를 만들면서 끝내요.\n",
    "```python\n",
    "print(\"Hello World!\")\n",
    "```"
   ]
  },
  {
   "cell_type": "code",
   "execution_count": 11,
   "metadata": {},
   "outputs": [
    {
     "name": "stdout",
     "output_type": "stream",
     "text": [
      "Hello World!\n"
     ]
    }
   ],
   "source": [
    "print(\"Hello World!\")"
   ]
  },
  {
   "cell_type": "markdown",
   "metadata": {},
   "source": [
    "# 제작자\n",
    "**작성자** 고영현\n",
    "\n",
    "![파이썬이 가취있기를...](https://upload.wikimedia.org/wikipedia/ko/3/31/%EC%A1%B0%EC%BB%A4_%ED%8F%AC%EC%8A%A4%ED%84%B0.jpg)"
   ]
  },
  {
   "cell_type": "code",
   "execution_count": null,
   "metadata": {},
   "outputs": [],
   "source": []
  }
 ],
 "metadata": {
  "kernelspec": {
   "display_name": "Python 3",
   "language": "python",
   "name": "python3"
  },
  "language_info": {
   "codemirror_mode": {
    "name": "ipython",
    "version": 3
   },
   "file_extension": ".py",
   "mimetype": "text/x-python",
   "name": "python",
   "nbconvert_exporter": "python",
   "pygments_lexer": "ipython3",
   "version": "3.6.9"
  }
 },
 "nbformat": 4,
 "nbformat_minor": 2
}
